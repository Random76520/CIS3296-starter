python = 'Jupyter Notebook'

if python == 'Jupyter Notebook':
    print("ipynb")
else:
    print("py")